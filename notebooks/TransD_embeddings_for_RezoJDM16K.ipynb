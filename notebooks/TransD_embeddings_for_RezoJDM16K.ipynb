{
  "nbformat": 4,
  "nbformat_minor": 0,
  "metadata": {
    "colab": {
      "name": "TransD embeddings for RezoJDM16K.ipynb",
      "provenance": [],
      "collapsed_sections": []
    },
    "kernelspec": {
      "name": "python3",
      "display_name": "Python 3"
    },
    "language_info": {
      "name": "python"
    },
    "accelerator": "GPU"
  },
  "cells": [
    {
      "cell_type": "code",
      "source": [
        "!!git clone -b OpenKE-PyTorch https://github.com/thunlp/OpenKE\n",
        "%cd OpenKE/\n",
        "!mkdir checkpoint\n",
        "!mkdir result\n",
        "%cd openke\n",
        "!bash ./make.sh"
      ],
      "metadata": {
        "id": "07WxBVM5RKyo"
      },
      "execution_count": null,
      "outputs": []
    },
    {
      "cell_type": "code",
      "source": [
        "%cd /content/OpenKE/benchmarks/\n",
        "!mkdir RezoJDM16K\n",
        "!wget -q https://github.com/ContentSide/French_Knowledge_Graph/raw/master/benchmarks/RezoJDM16K/1-1.txt -O RezoJDM16K/1-1.txt\n",
        "!wget -q https://github.com/ContentSide/French_Knowledge_Graph/raw/master/benchmarks/RezoJDM16K/1-n.txt -O RezoJDM16K/1-n.txt \n",
        "!wget -q https://github.com/ContentSide/French_Knowledge_Graph/raw/master/benchmarks/RezoJDM16K/entity2id.txt -O RezoJDM16K/entity2id.txt\n",
        "!wget -q https://github.com/ContentSide/French_Knowledge_Graph/raw/master/benchmarks/RezoJDM16K/n-1.txt -O RezoJDM16K/n-1.txt\n",
        "!wget -q https://github.com/ContentSide/French_Knowledge_Graph/raw/master/benchmarks/RezoJDM16K/n-n.txt -O RezoJDM16K/n-n.txt\n",
        "!wget -q https://github.com/ContentSide/French_Knowledge_Graph/raw/master/benchmarks/RezoJDM16K/relation2id.txt -O RezoJDM16K/relation2id.txt\n",
        "!wget -q https://github.com/ContentSide/French_Knowledge_Graph/raw/master/benchmarks/RezoJDM16K/test2id.txt -O RezoJDM16K/test2id.txt\n",
        "!wget -q https://github.com/ContentSide/French_Knowledge_Graph/raw/master/benchmarks/RezoJDM16K/test2id_all.txt -O RezoJDM16K/test2id_all.txt\n",
        "!wget -q https://github.com/ContentSide/French_Knowledge_Graph/raw/master/benchmarks/RezoJDM16K/train2id.txt -O RezoJDM16K/train2id.txt\n",
        "!wget -q https://github.com/ContentSide/French_Knowledge_Graph/raw/master/benchmarks/RezoJDM16K/type_constrain.txt -O RezoJDM16K/type_constrain.txt\n",
        "!wget -q https://github.com/ContentSide/French_Knowledge_Graph/raw/master/benchmarks/RezoJDM16K/valid2id.txt -O RezoJDM16K/valid2id.txt\n",
        "%cd .."
      ],
      "metadata": {
        "id": "kBj1WyqWRhfw"
      },
      "execution_count": null,
      "outputs": []
    },
    {
      "cell_type": "code",
      "source": [
        "import numpy as np\n",
        "import openke\n",
        "from openke.config import Trainer, Tester\n",
        "from openke.module.model import TransD\n",
        "from openke.module.loss import MarginLoss\n",
        "from openke.module.strategy import NegativeSampling\n",
        "from openke.data import TrainDataLoader, TestDataLoader\n",
        "\n",
        "# dataloader for training\n",
        "train_dataloader = TrainDataLoader(\n",
        "\tin_path=\"./benchmarks/RezoJDM16K/\", \n",
        "\tnbatches=100,\n",
        "\tthreads=8, \n",
        "\tsampling_mode=\"normal\", \n",
        "\tbern_flag=1, \n",
        "\tfilter_flag=1, \n",
        "\tneg_ent=25,\n",
        "\tneg_rel=0\n",
        ")\n",
        "\n",
        "# dataloader for test\n",
        "test_dataloader = TestDataLoader(\"./benchmarks/RezoJDM16K/\", \"link\")\n",
        "\n",
        "# define the model\n",
        "transd = TransD(\n",
        "\tent_tot=train_dataloader.get_ent_tot(),\n",
        "\trel_tot=train_dataloader.get_rel_tot(),\n",
        "\tdim_e=200, \n",
        "\tdim_r=200, \n",
        "\tp_norm=1, \n",
        "\tnorm_flag=True\n",
        ")\n",
        "\n",
        "\n",
        "# define the loss function\n",
        "model = NegativeSampling(\n",
        "\tmodel = transd, \n",
        "\tloss = MarginLoss(margin = 4.0),\n",
        "\tbatch_size = train_dataloader.get_batch_size()\n",
        ")\n",
        "\n",
        "# train the model\n",
        "trainer = Trainer(\n",
        "\tmodel=model,\n",
        "\tdata_loader=train_dataloader,\n",
        "\ttrain_times=50,\n",
        "\talpha=1.0,\n",
        "\tuse_gpu=True\n",
        ")\n",
        "trainer.run()\n",
        "\n",
        "# save everything\n",
        "\n",
        "# model\n",
        "transd.save_checkpoint('./checkpoint/transd.ckpt')\n",
        "\n",
        "# embeddings as np arrays\n",
        "ent_embeddings = transd.ent_embeddings.weight.detach().cpu().numpy()\n",
        "rel_embeddings = transd.rel_embeddings.weight.detach().cpu().numpy()\n",
        "np.save(\"./benchmarks/RezoJDM16K/entity2vec200.npy\", ent_embeddings)\n",
        "np.save(\"./benchmarks/RezoJDM16K/relation2vec200.npy\", rel_embeddings)\n",
        "\n",
        "# embeddings as txt\n",
        "relation_embs = np.load(\"./benchmarks/RezoJDM16K/relation2vec200.npy\")\n",
        "with open(\"./benchmarks/RezoJDM16K/relation2vec200.init\", \"w\") as fp:\n",
        "    for relation_emb in list(relation_embs):\n",
        "        line = \"\\t\".join(str(w) for w in list(relation_emb))\n",
        "        fp.write(f\"{line}\\t\\n\")\n",
        "entity_embs = np.load(\"./benchmarks/RezoJDM16K/entity2vec200.npy\")\n",
        "with open(\"./benchmarks/RezoJDM16K/entity2vec200.init\", \"w\") as fp:\n",
        "    for entity_emb in list(entity_embs):\n",
        "        line = \"\\t\".join(str(w) for w in list(entity_emb))\n",
        "        fp.write(f\"{line}\\t\\n\")\n",
        "\n",
        "# test the model\n",
        "transd.load_checkpoint('./checkpoint/transd.ckpt')\n",
        "tester = Tester(\n",
        "\t  model=transd,\n",
        "\t  data_loader=test_dataloader,\n",
        "\t  use_gpu=True\n",
        ")\n",
        "tester.run_link_prediction(type_constrain=False)"
      ],
      "metadata": {
        "id": "gdP8eXOrRk3Y"
      },
      "execution_count": null,
      "outputs": []
    },
    {
      "cell_type": "code",
      "source": [
        "%cd benchmarks/RezoJDM16K/\n",
        "!zip embeddings-RezoJDM16K-transd.zip relation2vec200.init entity2vec200.init"
      ],
      "metadata": {
        "id": "DE1iDnApR6FM"
      },
      "execution_count": null,
      "outputs": []
    },
    {
      "cell_type": "code",
      "source": [
        "from google.colab import files\n",
        "files.download(\"embeddings-RezoJDM16K-transd.zip\")"
      ],
      "metadata": {
        "id": "omTJRs0wR-pY"
      },
      "execution_count": null,
      "outputs": []
    }
  ]
}