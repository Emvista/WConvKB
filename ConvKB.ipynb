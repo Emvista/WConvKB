{
 "cells": [
  {
   "cell_type": "code",
   "source": [
    "from google.colab import drive\n",
    "drive.mount('gdrive')"
   ],
   "metadata": {
    "colab": {
     "base_uri": "https://localhost:8080/"
    },
    "id": "Kn3k83C9gXMt",
    "executionInfo": {
     "status": "ok",
     "timestamp": 1653566123153,
     "user_tz": -120,
     "elapsed": 26693,
     "user": {
      "displayName": "Waleed Ragheb",
      "userId": "05684618753425310980"
     }
    },
    "outputId": "ea43cdaf-6256-48ae-e02d-e4cd9bea603f"
   },
   "execution_count": 1,
   "outputs": [
    {
     "output_type": "stream",
     "name": "stdout",
     "text": [
      "Mounted at gdrive\n"
     ]
    }
   ]
  },
  {
   "cell_type": "code",
   "execution_count": 2,
   "metadata": {
    "colab": {
     "base_uri": "https://localhost:8080/"
    },
    "executionInfo": {
     "elapsed": 102957,
     "status": "ok",
     "timestamp": 1653566230495,
     "user": {
      "displayName": "Waleed Ragheb",
      "userId": "05684618753425310980"
     },
     "user_tz": -120
    },
    "id": "FVpWStEFKPpU",
    "outputId": "8a42d92e-56a6-426b-e27f-d0ac395db97a"
   },
   "outputs": [
    {
     "output_type": "stream",
     "name": "stdout",
     "text": [
      "Found existing installation: torchtext 0.12.0\n",
      "Uninstalling torchtext-0.12.0:\n",
      "  Successfully uninstalled torchtext-0.12.0\n",
      "Found existing installation: torchaudio 0.11.0+cu113\n",
      "Uninstalling torchaudio-0.11.0+cu113:\n",
      "  Successfully uninstalled torchaudio-0.11.0+cu113\n",
      "Looking in indexes: https://pypi.org/simple, https://us-python.pkg.dev/colab-wheels/public/simple/\n",
      "Collecting torch==1.5.0\n",
      "  Downloading torch-1.5.0-cp37-cp37m-manylinux1_x86_64.whl (752.0 MB)\n",
      "\u001B[K     |████████████████████████████████| 752.0 MB 9.4 kB/s \n",
      "\u001B[?25hCollecting torchvision==0.6.0\n",
      "  Downloading torchvision-0.6.0-cp37-cp37m-manylinux1_x86_64.whl (6.6 MB)\n",
      "\u001B[K     |████████████████████████████████| 6.6 MB 23.1 MB/s \n",
      "\u001B[?25hRequirement already satisfied: future in /usr/local/lib/python3.7/dist-packages (from torch==1.5.0) (0.16.0)\n",
      "Requirement already satisfied: numpy in /usr/local/lib/python3.7/dist-packages (from torch==1.5.0) (1.21.6)\n",
      "Requirement already satisfied: pillow>=4.1.1 in /usr/local/lib/python3.7/dist-packages (from torchvision==0.6.0) (7.1.2)\n",
      "Installing collected packages: torch, torchvision\n",
      "  Attempting uninstall: torch\n",
      "    Found existing installation: torch 1.11.0+cu113\n",
      "    Uninstalling torch-1.11.0+cu113:\n",
      "      Successfully uninstalled torch-1.11.0+cu113\n",
      "  Attempting uninstall: torchvision\n",
      "    Found existing installation: torchvision 0.12.0+cu113\n",
      "    Uninstalling torchvision-0.12.0+cu113:\n",
      "      Successfully uninstalled torchvision-0.12.0+cu113\n",
      "Successfully installed torch-1.5.0 torchvision-0.6.0\n"
     ]
    }
   ],
   "source": [
    "# Not mandatory, but it makes sure we're using the same env as the authors\n",
    "!pip uninstall --yes torchtext torchaudio\n",
    "!pip install torch==1.5.0 torchvision==0.6.0"
   ]
  },
  {
   "cell_type": "code",
   "source": [
    "%cd /content/gdrive/MyDrive/jdm_data/glesdo22/glesdo22/"
   ],
   "metadata": {
    "colab": {
     "base_uri": "https://localhost:8080/"
    },
    "id": "_gOE444xgf54",
    "executionInfo": {
     "status": "ok",
     "timestamp": 1653566234926,
     "user_tz": -120,
     "elapsed": 277,
     "user": {
      "displayName": "Waleed Ragheb",
      "userId": "05684618753425310980"
     }
    },
    "outputId": "96dc99d4-d567-4460-e83f-14d9be89c724"
   },
   "execution_count": 3,
   "outputs": [
    {
     "output_type": "stream",
     "name": "stdout",
     "text": [
      "/content/gdrive/MyDrive/jdm_data/glesdo22/glesdo22\n"
     ]
    }
   ]
  },
  {
   "cell_type": "code",
   "source": [
    "%ls ConvKB_pytorch/release/ -altr"
   ],
   "metadata": {
    "colab": {
     "base_uri": "https://localhost:8080/"
    },
    "id": "APB2WFq5z9QN",
    "executionInfo": {
     "status": "ok",
     "timestamp": 1653409362715,
     "user_tz": -120,
     "elapsed": 215,
     "user": {
      "displayName": "Waleed Ragheb",
      "userId": "05684618753425310980"
     }
    },
    "outputId": "51102fc4-6968-43e0-d612-8f47c6829fbd"
   },
   "execution_count": 21,
   "outputs": [
    {
     "output_type": "stream",
     "name": "stdout",
     "text": [
      "total 60\n",
      "-rwx------ 1 root root 61272 May 24 15:57 \u001B[0m\u001B[01;32mBase.so\u001B[0m*\n"
     ]
    }
   ]
  },
  {
   "cell_type": "code",
   "source": [
    "%cd ConvKB_pytorch/"
   ],
   "metadata": {
    "colab": {
     "base_uri": "https://localhost:8080/"
    },
    "id": "-t72Aqo1w1EQ",
    "executionInfo": {
     "status": "ok",
     "timestamp": 1653407454531,
     "user_tz": -120,
     "elapsed": 210,
     "user": {
      "displayName": "Waleed Ragheb",
      "userId": "05684618753425310980"
     }
    },
    "outputId": "741a9c30-a181-45cd-f98e-335611c90b7b"
   },
   "execution_count": null,
   "outputs": [
    {
     "output_type": "stream",
     "name": "stdout",
     "text": [
      "/content/gdrive/MyDrive/jdm_data/glesdo22/glesdo22/ConvKB_pytorch\n"
     ]
    }
   ]
  },
  {
   "cell_type": "code",
   "source": [
    "%cd .."
   ],
   "metadata": {
    "colab": {
     "base_uri": "https://localhost:8080/"
    },
    "id": "Ft116nasqvF4",
    "executionInfo": {
     "status": "ok",
     "timestamp": 1653406697897,
     "user_tz": -120,
     "elapsed": 249,
     "user": {
      "displayName": "Waleed Ragheb",
      "userId": "05684618753425310980"
     }
    },
    "outputId": "991bef77-719f-41c9-d2d8-0a88bbcfd21c"
   },
   "execution_count": null,
   "outputs": [
    {
     "output_type": "stream",
     "name": "stdout",
     "text": [
      "/content/gdrive/MyDrive/jdm_data/glesdo22/glesdo22\n"
     ]
    }
   ]
  },
  {
   "cell_type": "code",
   "execution_count": 6,
   "metadata": {
    "colab": {
     "base_uri": "https://localhost:8080/"
    },
    "executionInfo": {
     "elapsed": 24120,
     "status": "ok",
     "timestamp": 1653408367842,
     "user": {
      "displayName": "Waleed Ragheb",
      "userId": "05684618753425310980"
     },
     "user_tz": -120
    },
    "id": "hxhjQkrFKinY",
    "outputId": "6debc59d-6303-433e-9a44-5a761490d86d"
   },
   "outputs": [
    {
     "output_type": "stream",
     "name": "stdout",
     "text": [
      "Archive:  RezoJDM16K-xp.zip\n",
      "replace ConvKB_pytorch/benchmarks/RezoJDM16K/train2id.txt? [y]es, [n]o, [A]ll, [N]one, [r]ename: y\n",
      "  inflating: ConvKB_pytorch/benchmarks/RezoJDM16K/train2id.txt  \n",
      "replace ConvKB_pytorch/benchmarks/RezoJDM16K/n-1.txt? [y]es, [n]o, [A]ll, [N]one, [r]ename: y\n",
      "  inflating: ConvKB_pytorch/benchmarks/RezoJDM16K/n-1.txt  \n",
      "replace ConvKB_pytorch/benchmarks/RezoJDM16K/n-n.txt? [y]es, [n]o, [A]ll, [N]one, [r]ename: A\n",
      "  inflating: ConvKB_pytorch/benchmarks/RezoJDM16K/n-n.txt  \n",
      "  inflating: ConvKB_pytorch/benchmarks/RezoJDM16K/entity2id_100init.txt  \n",
      "  inflating: ConvKB_pytorch/benchmarks/RezoJDM16K/1-n.txt  \n",
      "  inflating: ConvKB_pytorch/benchmarks/RezoJDM16K/relation2id.txt  \n",
      "  inflating: ConvKB_pytorch/benchmarks/RezoJDM16K/entity2id.txt  \n",
      "  inflating: ConvKB_pytorch/benchmarks/RezoJDM16K/test2id_all.txt  \n",
      "  inflating: ConvKB_pytorch/benchmarks/RezoJDM16K/type_constrain.txt  \n",
      "  inflating: ConvKB_pytorch/benchmarks/RezoJDM16K/valid2id.txt  \n",
      "  inflating: ConvKB_pytorch/benchmarks/RezoJDM16K/1-1.txt  \n",
      "  inflating: ConvKB_pytorch/benchmarks/RezoJDM16K/test2id.txt  \n",
      "  inflating: ConvKB_pytorch/benchmarks/RezoJDM16K/relation2id_100init.txt  \n",
      "  inflating: ConvKB_pytorch/benchmarks/RezoJDM16K/relation2vec100.init  \n",
      "  inflating: ConvKB_pytorch/benchmarks/RezoJDM16K/entity2vec100.init  \n"
     ]
    }
   ],
   "source": [
    "# Make sure to upload RezoJDM16K-xp.zip to /content first\n",
    "!unzip RezoJDM16K-xp.zip -d ConvKB_pytorch/benchmarks/"
   ]
  },
  {
   "cell_type": "code",
   "execution_count": 5,
   "metadata": {
    "colab": {
     "base_uri": "https://localhost:8080/"
    },
    "id": "aew8STfTypS0",
    "executionInfo": {
     "status": "ok",
     "timestamp": 1653509622143,
     "user_tz": -120,
     "elapsed": 5694998,
     "user": {
      "displayName": "Waleed Ragheb",
      "userId": "05684618753425310980"
     }
    },
    "outputId": "353305bb-2346-43de-bb6e-3debd7df55df"
   },
   "outputs": [
    {
     "output_type": "stream",
     "name": "stdout",
     "text": [
      "/content/gdrive/MyDrive/jdm_data/glesdo22/glesdo22/ConvKB_pytorch\n",
      "Namespace(checkpoint_path=None, dataset='RezoJDM16K', dropout=0.5, hidden_size=200, kernel_size=1, learning_rate=0.01, lmbda=0.2, lmbda2=0.01, mode='train', model_name='RezoJDM16k_lda-0.2_nneg-10_nfilters-64_lr-0.01', nbatches=100, neg_num=10, num_epochs=2, num_of_filters=64, optim='adagrad', save_steps=1000, test_file='', use_init=1, valid_steps=50)\n",
      "Writing to /content/gdrive/MyDrive/jdm_data/glesdo22/glesdo22/runs_pytorch_ConvKB\n",
      "\n",
      "/content/gdrive/MyDrive/jdm_data/glesdo22/glesdo22/ConvKB_pytorch/release/Base.so\n",
      "im here ..\n",
      "Input Files Path : ./benchmarks/RezoJDM16K/\n",
      "Test File Path : \n",
      "The toolkit is importing datasets.\n",
      "The total of relations is 53.\n",
      "The total of entities is 15746.\n",
      "The total of train triples is 665674.\n",
      "The total of test triples is 83209.\n",
      "The total of valid triples is 83209.\n",
      "Initializing training model...\n",
      "Finish initializing\n",
      "Epoch 1 | loss: 47.581213: 100% 2/2 [01:39<00:00, 49.80s/it]\n",
      "Best epoch is 1 | hit@10 of valid set is 0.274856\n",
      "Store checkpoint of best result at epoch 1...\n",
      "Finish storing\n",
      "Testing...\n",
      "Initializing test model...\n",
      "Finish initializing\n",
      "The total of test triple is 83209\n",
      "Final (filter) results:\n",
      "\n",
      "l(filter):\t\t 0.144650 \t 594.153320 \t 0.292997 \t 0.170835 \t 0.068034 \n",
      "r(filter):\t\t 0.143043 \t 470.313202 \t 0.255189 \t 0.143698 \t 0.084342 \n",
      "averaged(filter):\t 0.143846 \t 532.233276 \t 0.274093 \t 0.157267 \t 0.076188 \n",
      "Finish test\n"
     ]
    }
   ],
   "source": [
    "%cd ConvKB_pytorch/\n",
    "!python train_ConvKB.py \\\n",
    "    --dataset RezoJDM16K \\\n",
    "    --hidden_size 200 --num_of_filters 64 --neg_num 10 --valid_step 50 --nbatches 100 --num_epochs 2 --learning_rate 0.01 --lmbda 0.2  \\\n",
    "    --model_name RezoJDM16k_lda-0.2_nneg-10_nfilters-64_lr-0.01 \\\n",
    "    --mode train"
   ]
  },
  {
   "cell_type": "markdown",
   "metadata": {
    "id": "wHGT9Flz-YS4"
   },
   "source": [
    "----"
   ]
  },
  {
   "cell_type": "code",
   "source": [
    "#function ClickConnect(){\n",
    "#    console.log(\"Clicked on connect button\"); \n",
    "#    document.querySelector(\"colab-connect-button\").click()\n",
    "#}\n",
    "#setInterval(ClickConnect,60000)"
   ],
   "metadata": {
    "id": "ClIQtksWzPsR"
   },
   "execution_count": null,
   "outputs": []
  },
  {
   "cell_type": "code",
   "source": [
    "%cd ConvKB_pytorch/\n",
    "!python train_ConvKB.py \\\n",
    "    --dataset RezoJDM16K \\\n",
    "    --hidden_size 200 --num_of_filters 64 --neg_num 10 --valid_step 50 --nbatches 100 --num_epochs 2 --learning_rate 0.01 --lmbda 0.2  \\\n",
    "    --model_name RezoJDM16k_lda-0.2_nneg-10_nfilters-64_lr-0.01_new \\\n",
    "    --mode train"
   ],
   "metadata": {
    "id": "gDmjvvWEPEte"
   },
   "execution_count": null,
   "outputs": []
  },
  {
   "cell_type": "markdown",
   "source": [
    ""
   ],
   "metadata": {
    "id": "VflTA2mKPEhA"
   }
  }
 ],
 "metadata": {
  "colab": {
   "collapsed_sections": [],
   "name": "ConvKB.ipynb",
   "provenance": []
  },
  "interpreter": {
   "hash": "f2afc8d3025a3bc8d45b9155a43cc8faaf23a29381237d7f246f4c7d8e2eac7d"
  },
  "kernelspec": {
   "display_name": "Python 3.7.9 64-bit",
   "language": "python",
   "name": "python3"
  },
  "language_info": {
   "codemirror_mode": {
    "name": "ipython",
    "version": 3
   },
   "file_extension": ".py",
   "mimetype": "text/x-python",
   "name": "python",
   "nbconvert_exporter": "python",
   "pygments_lexer": "ipython3",
   "version": "3.7.9"
  },
  "accelerator": "GPU"
 },
 "nbformat": 4,
 "nbformat_minor": 0
}